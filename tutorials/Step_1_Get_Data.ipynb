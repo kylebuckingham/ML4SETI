{
 "cells": [
  {
   "cell_type": "markdown",
   "metadata": {
    "deletable": true,
    "editable": true
   },
   "source": [
    "# Welcome to the SETI Institute Code Challenge!\n",
    "\n",
    "This first tutorial will explain a little bit on what the data is and where to get it.\n",
    "\n",
    "# Introduction\n",
    "\n",
    "For the Code Challenge, you will be using the **\"primary\" data set**, as we've called it. The primary data set is   \n",
    "\n",
    "    * labeled data set of 350,000 simulated signals\n",
    "    * 7 different labels, or \"signal classifications\"\n",
    "    * total of about 128 GB of data\n",
    "    \n",
    "This data set should be used to train your models. \n",
    "\n",
    "**You do not need to use all the data to train your models** if you do not want to or need to consume the entire set. \n",
    "\n",
    "There are also a **`small` and a `medium` sized subset** of these primary data files. \n",
    "\n",
    "Read below on how to download these data.\n",
    "\n",
    "## Simple Data Format\n",
    "\n",
    "Each data file has a simple format: \n",
    "\n",
    "    * a JSON header in the first line that contains:\n",
    "        * UUID\n",
    "        * signal_classification (label)\n",
    "    * followed by stream complex-valued time-series data. \n",
    "\n",
    "The `ibmseti` Python package is available to assist in reading this data and performing some basic operations for you. \n",
    "\n",
    "## Basic Warmup Data Set.\n",
    "\n",
    "There is also a second data set that you may use for warmup, which we call the **\"basic\" data set**.  \n",
    "\n",
    "    * 4 different signal classifications\n",
    "    * 1000 simulation files for each class: 4000 files total\n",
    "    * ~1 GB in total. \n",
    "       \n",
    "This basic set should be used as a sanity check and for early-stage prototyping. \n",
    "\n",
    "### Basic Set versus Primary Set\n",
    "\n",
    "> The difference between the `basic` and `primary` data sets is that the signals simulated in the `basic` set have, on average, much higher signal to noise ratio (they are larger amplitude signals). They also have other characteristics that will make the different signal classes very distinguishable. **You should be able to get very high signal classification accuracy with the basic data set.**  The primary data set has smaller amplitude signals and can look more similar to each other, making classification accuracy more difficult with this data set. There are also only 4 classes in the basic data set and 7 classes in the primary set. \n",
    "\n",
    "\n"
   ]
  },
  {
   "cell_type": "markdown",
   "metadata": {
    "deletable": true,
    "editable": true
   },
   "source": [
    "# IBM Object Storage\n",
    "\n",
    "The data are stored in `containers` on IBM Object Storage. You can access these data with HTTP calls. \n",
    "\n",
    "The URL for all data files is composed of\n",
    "\n",
    "  `base_url/container/objectname`.\n",
    " \n",
    "The `base_url` is:"
   ]
  },
  {
   "cell_type": "code",
   "execution_count": null,
   "metadata": {
    "collapsed": true,
    "deletable": true,
    "editable": true
   },
   "outputs": [],
   "source": [
    "#If you are running this in IBM Apache Spark (via Data Science Experience)\n",
    "base_url = 'https://dal05.objectstorage.service.networklayer.com/v1/AUTH_cdbef52bdf7a449c96936e1071f0a46b'\n",
    "\n",
    "#ELSE, if you are outside of IBM:\n",
    "#base_url = 'https://dal.objectstorage.open.softlayer.com/v1/AUTH_cdbef52bdf7a449c96936e1071f0a46b'\n",
    "\n",
    "#NOTE: if you are outside of IBM, pulling down data will be slower. :/"
   ]
  },
  {
   "cell_type": "code",
   "execution_count": null,
   "metadata": {
    "collapsed": false,
    "deletable": true,
    "editable": true
   },
   "outputs": [],
   "source": [
    "#Defining a local data folder to dump data\n",
    "\n",
    "import os\n",
    "\n",
    "#Note for hackathon participants that use the Spark Enterprise Cluster: You MUST define a unique local data folder\n",
    "# to save your work in order to avoid colliding with other teams using the enterprise clusters.\n",
    "mydatafolder = 'my_team_name_data_folder'\n",
    "if os.path.exists(mydatafolder) is False:\n",
    "    os.makedirs(mydatafolder)"
   ]
  },
  {
   "cell_type": "markdown",
   "metadata": {
    "deletable": true,
    "editable": true
   },
   "source": [
    "## Basic Data Set\n",
    "\n",
    "We'll start with the basic data set.  Because the basic data set is small, we've created a `.zip` file of the full data set that you can download directly.  "
   ]
  },
  {
   "cell_type": "code",
   "execution_count": null,
   "metadata": {
    "collapsed": true,
    "deletable": true,
    "editable": true
   },
   "outputs": [],
   "source": [
    "import os"
   ]
  },
  {
   "cell_type": "code",
   "execution_count": null,
   "metadata": {
    "collapsed": true,
    "deletable": true,
    "editable": true
   },
   "outputs": [],
   "source": [
    "basic_container = 'simsignals_basic_v2'\n",
    "basic4_zip_file = 'basic4.zip'"
   ]
  },
  {
   "cell_type": "code",
   "execution_count": null,
   "metadata": {
    "collapsed": false,
    "deletable": true,
    "editable": true
   },
   "outputs": [],
   "source": [
    "os.system('curl {}/{}/{} > {}'.format(base_url, basic_container, basic4_zip_file, mydatafolder + '/' + basic4_zip_file))"
   ]
  },
  {
   "cell_type": "code",
   "execution_count": null,
   "metadata": {
    "collapsed": false,
    "deletable": true,
    "editable": true
   },
   "outputs": [],
   "source": [
    "!ls -al my_team_name_data_folder/basic4.zip"
   ]
  },
  {
   "cell_type": "markdown",
   "metadata": {
    "deletable": true,
    "editable": true
   },
   "source": [
    "### Basic UUID/Class List\n",
    "\n",
    "To assist with analysis, we've included a file that contains the `UUID, signal classification` for the basic data set. (The `signal_classification` is also in the header of each simulation file, if you wish to use that instead.)\n",
    "\n",
    "* public_list_basic_v2_26may_2017.csv\n",
    "\n",
    "https://dal.objectstorage.open.softlayer.com/v1/AUTH_cdbef52bdf7a449c96936e1071f0a46b/simsignals_files/public_list_basic_v2_26may_2017.csv"
   ]
  },
  {
   "cell_type": "markdown",
   "metadata": {
    "deletable": true,
    "editable": true
   },
   "source": [
    "## Primary Data Set\n",
    "\n",
    "The full primary data set is very large. Thus, we provide a `primary_small` subset and a `primary_medium` subset of the data.  The `primary_small` contains 1000 simulations of each of the seven classes and is 2.6 GB in size (1.9 GB zipped). The `primary_medium` subset contains 10000 simulations of each of the seven classes and is 26 GB in size (19 GB zipped).  \n",
    "\n",
    "### Primary Small\n",
    "\n",
    "The `primary_small` subset can be found in a zip file in\n",
    "* contianer = 'simignals_v2_zipped'\n",
    "* objectname = 'primary_small.zip'"
   ]
  },
  {
   "cell_type": "code",
   "execution_count": null,
   "metadata": {
    "collapsed": false,
    "deletable": true,
    "editable": true
   },
   "outputs": [],
   "source": [
    "primary_small_url = '{}/simsignals_v2_zipped/primary_small.zip'.format(base_url)\n",
    "os.system('curl {} > {}'.format(primary_small_url, mydatafolder +'/primary_small.zip'))"
   ]
  },
  {
   "cell_type": "markdown",
   "metadata": {
    "deletable": true,
    "editable": true
   },
   "source": [
    "###### Primary Small UUID/Class List\n",
    "\n",
    "Like the basic set, there is a CSV file containing the UUID, signal classifications for each file in the `primary_small` subset."
   ]
  },
  {
   "cell_type": "code",
   "execution_count": null,
   "metadata": {
    "collapsed": false,
    "deletable": true,
    "editable": true
   },
   "outputs": [],
   "source": [
    "primary_small_csv_url = '{}/simsignals_files/public_list_primary_v2_small_1june_2017.csv'.format(base_url)\n",
    "os.system('curl {} > {}'.format(primary_small_csv_url, mydatafolder +'/public_list_primary_v2_small_1june_2017.csv'))"
   ]
  },
  {
   "cell_type": "markdown",
   "metadata": {
    "deletable": true,
    "editable": true
   },
   "source": [
    "### Primary Medium\n",
    "\n",
    "Similarly, the `primary_medium` subset can be found in a handful of zip files\n",
    "\n",
    "* contianer = 'simignals_v2_zipped'\n",
    "* objectname = 'primary_medium_N.zip'\n",
    "* for N = 1, 2, 3, 4, 5, 6"
   ]
  },
  {
   "cell_type": "code",
   "execution_count": null,
   "metadata": {
    "collapsed": false,
    "deletable": true,
    "editable": true
   },
   "outputs": [],
   "source": [
    "med_N = '{}/simsignals_v2_zipped/primary_medium_{}.zip'\n",
    "\n",
    "for i in range(1,7):\n",
    "    med_url = med_N.format(base_url, i)\n",
    "    output_file = mydatafolder + '/primary_medium_{}.zip'.format(i)\n",
    "    print 'GETing', output_file\n",
    "    os.system('curl {} > {}'.format(med_url, output_file ))"
   ]
  },
  {
   "cell_type": "markdown",
   "metadata": {
    "deletable": true,
    "editable": true
   },
   "source": [
    "###### Primary Medium UUID/Class List\n",
    "\n",
    "Here too, there is a CSV file containing the UUID, signal classifications for each file in the `primary_medium` subset."
   ]
  },
  {
   "cell_type": "code",
   "execution_count": null,
   "metadata": {
    "collapsed": false,
    "deletable": true,
    "editable": true
   },
   "outputs": [],
   "source": [
    "med_csv_url = '{}/simsignals_files/public_list_primary_v2_medium_1june_2017.csv'.format(base_url)\n",
    "os.system('curl {} > {}'.format(med_csv_url, mydatafolder + '/public_list_primary_v2_medium_1june_2017.csv'))"
   ]
  },
  {
   "cell_type": "markdown",
   "metadata": {
    "deletable": true,
    "editable": true
   },
   "source": [
    "### Primary Full set\n",
    "\n",
    "Because the full set is so incredibly large, we currently only have these 350,000 files available separately on object storage. (However, we are working to zip these files up to make them more easily consumed). \n",
    "\n",
    "The `primary_full` list can be found here: "
   ]
  },
  {
   "cell_type": "code",
   "execution_count": null,
   "metadata": {
    "collapsed": false,
    "deletable": true,
    "editable": true
   },
   "outputs": [],
   "source": [
    "prim_full = '{}/simsignals_files/public_list_primary_v2_full_1june_2017.csv'.format(base_url)\n",
    "os.system('curl {} > {}'.format(prim_full, mydatafolder + '/public_list_primary_v2_full_1june_2017.csv'))"
   ]
  },
  {
   "cell_type": "markdown",
   "metadata": {
    "deletable": true,
    "editable": true
   },
   "source": [
    "One can download this list and begin to pull down files individually if desired. Warning, however, this will take approximately a billion years if you are not running on IBM Apache Spark -- IBM Apache Spark and Object Storage exist in the same data center and share a fast network connection. \n",
    "\n",
    "The data are found in \n",
    "\n",
    "`base_url/simsignals_v2/<uuid>.dat`\n",
    "\n",
    "For example:\n",
    "\n",
    "https://dal.objectstorage.open.softlayer.com/v1/AUTH_cdbef52bdf7a449c96936e1071f0a46b/simsignals_v2/aa7d082f-9263-4533-a9d4-5595c5cdde25.dat\n",
    "\n",
    "**We are working to make the primary full data set more easily consumed as a set of .zip files, as this current setup is less than ideal. You will be notified. The data will be already available for participants of the hackathon, however.**\n",
    "\n",
    "If you wish to programmatically begin to download the full data set you may use the following code."
   ]
  },
  {
   "cell_type": "code",
   "execution_count": null,
   "metadata": {
    "collapsed": true,
    "deletable": true,
    "editable": true
   },
   "outputs": [],
   "source": [
    "import requests\n",
    "import copy"
   ]
  },
  {
   "cell_type": "code",
   "execution_count": null,
   "metadata": {
    "collapsed": true,
    "deletable": true,
    "editable": true
   },
   "outputs": [],
   "source": [
    "file_list_container = 'simsignals_files'\n",
    "file_list = 'public_list_primary_v2_full_1june_2017.csv'\n",
    "primary_data_container = 'simsignals_v2'"
   ]
  },
  {
   "cell_type": "code",
   "execution_count": null,
   "metadata": {
    "collapsed": true,
    "deletable": true,
    "editable": true
   },
   "outputs": [],
   "source": [
    "r = requests.get('{}/{}/{}'.format(base_url, file_list_container, file_list), timeout=(9.0, 21.0))\n",
    "filecontents = copy.copy(r.content)"
   ]
  },
  {
   "cell_type": "code",
   "execution_count": null,
   "metadata": {
    "collapsed": false,
    "deletable": true,
    "editable": true
   },
   "outputs": [],
   "source": [
    "full_primary_files = [line.split(',') for line in filecontents.split('\\n')]\n",
    "print 'header', full_primary_files[0]\n",
    "full_primary_files = full_primary_files[1:-1] #strip the header and empty last element"
   ]
  },
  {
   "cell_type": "code",
   "execution_count": null,
   "metadata": {
    "collapsed": false,
    "deletable": true,
    "editable": true
   },
   "outputs": [],
   "source": [
    "#save your data into a local subfolder\n",
    "save_to_folder = 'primary_data_set'\n",
    "if os.path.exists(save_to_folder) is False:\n",
    "    os.mkdir(save_to_folder)"
   ]
  },
  {
   "cell_type": "code",
   "execution_count": null,
   "metadata": {
    "collapsed": false,
    "deletable": true,
    "editable": true,
    "scrolled": true
   },
   "outputs": [],
   "source": [
    "count = 0\n",
    "total = len(full_primary_files)\n",
    "for row in full_primary_files:\n",
    "    r = requests.get('{}/{}/{}.dat'.format(base_url, primary_data_container, row[0]), timeout=(9.0, 21.0))\n",
    "    \n",
    "    if count % 100 == 0:\n",
    "        print 'done ', count, ' out of ',  total\n",
    "    count += 1\n",
    "    \n",
    "    with open('{}/{}'.format(save_to_folder, row[0]+'.dat'), 'w' ) as fout:\n",
    "        fout.write(r.content)"
   ]
  },
  {
   "cell_type": "markdown",
   "metadata": {
    "deletable": true,
    "editable": true
   },
   "source": [
    "# Test Data Set\n",
    "\n",
    "Once you've trained your model, done all of your testing, and tweaks and are ready to submit an entry to the contest, you'll need to download the test data set and apply your model to that.  \n",
    "\n",
    "The test data set is similar to the labeled data, except that the JSON header is missing the 'signal_classification' key, and just contains the 'uuid'. \n",
    "\n",
    "Like the other sets, this set is found in a `.zip` file in the `simsignals_v2_zipped` container;"
   ]
  },
  {
   "cell_type": "code",
   "execution_count": null,
   "metadata": {
    "collapsed": false,
    "deletable": true,
    "editable": true
   },
   "outputs": [],
   "source": [
    "test_set_url = '{}/simsignals_v2_zipped/primary_testset.zip'.format(base_url)\n",
    "os.system('curl {} > {}'.format(test_set_url, mydatafolder +'/primary_testset.zip'))"
   ]
  },
  {
   "cell_type": "markdown",
   "metadata": {
    "deletable": true,
    "editable": true
   },
   "source": [
    "There are approximately 1000 simulations of each of the 7 signal classes -- but not exactly 1000 (+- some largeish number) so you can't cheat :). \n",
    "\n",
    "See the [Judging Criteria document](https://github.com/setiQuest/ML4SETI/blob/master/Judging_Criteria.ipynb) for more details."
   ]
  },
  {
   "cell_type": "code",
   "execution_count": null,
   "metadata": {
    "collapsed": true,
    "deletable": true,
    "editable": true
   },
   "outputs": [],
   "source": []
  }
 ],
 "metadata": {
  "kernelspec": {
   "display_name": "Python 2",
   "language": "python",
   "name": "python2"
  },
  "language_info": {
   "codemirror_mode": {
    "name": "ipython",
    "version": 2
   },
   "file_extension": ".py",
   "mimetype": "text/x-python",
   "name": "python",
   "nbconvert_exporter": "python",
   "pygments_lexer": "ipython2",
   "version": "2.7.13"
  }
 },
 "nbformat": 4,
 "nbformat_minor": 2
}
